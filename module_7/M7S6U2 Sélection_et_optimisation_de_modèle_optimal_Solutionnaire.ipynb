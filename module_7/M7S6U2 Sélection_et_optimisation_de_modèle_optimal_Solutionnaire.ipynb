{
 "cells": [
  {
   "cell_type": "markdown",
   "metadata": {
    "id": "-98j51DXyUQ4"
   },
   "source": [
    "---\n",
    "# Module 7.2 : Exemple de sélection et d'optimisation de modèles\n",
    "---"
   ]
  },
  {
   "cell_type": "markdown",
   "metadata": {
    "id": "RApZKXIPyUQ8"
   },
   "source": [
    "<p>&nbsp;</p>\n",
    "<div align=\"center\">\n",
    "    <table><tr>\n",
    "    <td> <img src= https://drive.google.com/uc?id=1Kb7kRLGTqy7PyEeUDpDqXUY1zuqBrm0O  width=\"400\" /> </td>\n",
    "    <td> <img src= https://drive.google.com/uc?id=1Qyx5Wv0U3mN408YLXSKrfO-4l7f_Hklg  width=\"300\" /> </td>\n",
    "    </tr></table>    \n",
    "    <div>\n",
    "    <td>  <font size=\"1.5\">(Best et Banting, 1921) Image Source: https://worlddiabetestour.org/fr/diabete/l-insuline-notre-vie/</font> </td>\n",
    "    </div>\n",
    "</div>\n",
    "<p>&nbsp;</p>\n"
   ]
  },
  {
   "cell_type": "markdown",
   "metadata": {
    "id": "Q9wt05D8yUQ9"
   },
   "source": [
    "Dans ce script en Python, nous allons entraîner un classificateur afin de prédire si un patient \n",
    "est diabétique ou non en fonction de variables mesurées à la suite d'une visite médicale (prise \n",
    "de pression, de sang, etc.)\n",
    "\n",
    "Ce type d'analyse a mené à une meilleure compréhension du diabète. C'est un bel exemple de l'utilisation de \n",
    "l'apprentissage automatique (*machine learning*) en médecine. Dans ce problème, nous sommes confrontés à des données\n",
    "disparates (taux de glucose dans le sang, indice de masse corporelle, épaisseur de la peau, etc.) C'est souvent le cas dans la pratique, où l'on mesure un grand nombre de caractéristiques/facteurs/variables et l'on est intéressé à les utiliser afin de prédire, par exemple, si une personne est atteinte ou non du diabète.\n",
    "\n",
    "La classification sert à prédire une *réponse* $y$, qui est une variable ordinale ou catégorique (c.-à-d. une classe), en fonction de plusieurs variables $x_{i}$\n",
    "\n",
    "<blockquote> \n",
    "$y=f(x_{1}, \\cdots, x_{N}, \\Theta)$ \n",
    "</blockquote> \n",
    "\n",
    "où $\\Theta$ représente l'ensemble des paramètres de la fonction $f$. On utilise également la notation suivante\n",
    "\n",
    "<blockquote> \n",
    "$\\mathbf{X} = [x_{1}, \\cdots, x_{N}]$ \n",
    "</blockquote> \n",
    "\n",
    "afin de représenter le vecteur des entrées.\n",
    "\n",
    "Il est généralement impossible de modéliser exactement cette fonction dû à la complexité du phénomène étudié. L'apprentissage automatique offre une alternative à la modélisation analytique. Il permet de modéliser un phénomène impliquant un très grand nombre d'interactions entre différentes variables sans avoir à les spécifier explicitement dans un modèle mathématique.  \n",
    "\n",
    "Nous allons voir comment les outils de l'apprentissage automatique (principalement ceux de la librairie [Scikit-learn](https://scikit-learn.org/stable/index.html)) nous permettent, non seulement de construire des modèles prédictifs, mais aussi de choisir le meilleur parmi eux.\n",
    "\n",
    "Ce tutoriel fait suite à celui intitulé **Exemple de préparation des données** qui explique comment effectuer le prétraitement des données. Les deux tutoriels utilisent la même base de données [diabetes](https://www.kaggle.com/datasets/uciml/pima-indians-diabetes-database). Elle est prétraitée dans le tutoriel précédent et ses données sont analysées dans le présent tutoriel.\n",
    "\n",
    "### Informations sur la base de données.\n",
    "\n",
    "<p>&nbsp;</p>\n",
    "<div align=\"center\">\n",
    "    <img src= https://drive.google.com/uc?id=1XNkAdr-Tjz7aK7FGrZljdJ79YmAvCgN9  width=\"400\" />\n",
    "    <div>\n",
    "    <font size=\"1.5\">Image Source: Google Image/</font>\n",
    "    </div>\n",
    "</div>\n",
    "<p>&nbsp;</p>\n",
    "\n",
    "\n",
    "La base de données [diabetes](https://www.kaggle.com/uciml/pima-indians-diabetes-database) contient neuf variables, continues ou ordinales, qui ont été mesurées chez 768 sujets:\n",
    "\n",
    "<ul>\n",
    "<li><b>Pregnancies</b>: nombre de grossesses,</li>\n",
    "<li><b>Glucose</b>: taux de glucose,</li>\n",
    "<li><b>BloodPressure</b>: pression artérielle,</li>\n",
    "<li><b>SkinThickness</b>: épaisseur de la peau,</li>\n",
    "<li><b>Insulin</b>: taux d'insuline,</li>\n",
    "<li><b>BMI</b>: indice de masse corporelle (IMC), </li>\n",
    "<li><b>DiabetesPedigreeFunction</b>: facteur de diabète,</li>\n",
    "<li><b>Age</b>: âge,</li>\n",
    "<li><b>Outcome</b>: résultat.</li>\n",
    "</ul>\n",
    "\n",
    "La dernière, *Outcome*, contient la réponse binaire que l'on veut prédire. Une personne est atteinte \n",
    "du diabète lorsque *Outcome*=1. \n",
    "\n",
    "### Buts de l'analyse\n",
    "Notre analyse vise à montrer un exemple complet de projet comprenant les volets suivants:\n",
    "<ul>\n",
    "<li>l'entraînement et l'optimisation d'un classificateur,</li>\n",
    "<li>la sélection d'un classificateur optimal parmi plusieurs,</li>\n",
    "<li>l'identification des variables mesurées les plus importantes, c.-à-d. celles qui ont le plus grand effet sur la prévalence du diabète.</li>\n",
    "</ul>\n",
    "\n",
    "### Étapes de traitement des données\n",
    "Dans ce qui suit, nous allons effectuer les étapes suivantes de traitement:\n",
    "<ol>\n",
    "<li>le balancement des classes,</li>\n",
    "<li>la normalisation des données,</li>\n",
    "<li>l'entraînement, l'optimisation et la sélection de modèles,</li>\n",
    "<li>l'identification des variables les plus importantes.</li>\n",
    "</ol>\n",
    "\n",
    "\n",
    "### IMPORTANT: Copie du notebook!\n",
    "\n",
    "Vous devez faire une copie du notebook dans votre drive avant de l'exécuter, car les modifications dans le notebook original ne seront pas sauvegardées. Vous travaillerez ainsi dans la copie et non dans l'original.\n",
    "\n",
    "\n",
    "Importation des fichiers à utiliser dans le tutoriel."
   ]
  },
  {
   "cell_type": "code",
   "execution_count": 1,
   "metadata": {
    "colab": {
     "base_uri": "https://localhost:8080/"
    },
    "executionInfo": {
     "elapsed": 4839,
     "status": "ok",
     "timestamp": 1677704407817,
     "user": {
      "displayName": "Pierre Gravel",
      "userId": "08025702416652476882"
     },
     "user_tz": 300
    },
    "id": "-9YhoxL3meB0",
    "outputId": "f8299fcc-ecfa-411d-d2c5-7fd554cf07db"
   },
   "outputs": [
    {
     "name": "stderr",
     "output_type": "stream",
     "text": [
      "Cloning into 'IVADO-AA'...\n"
     ]
    }
   ],
   "source": [
    "%%bash\n",
    "git clone https://github.com/Cours-EDUlib/IVADO-AA.git\n",
    "mv IVADO-AA/module_7/* ./\n",
    "rm -r IVADO-AA"
   ]
  },
  {
   "cell_type": "code",
   "execution_count": 1,
   "metadata": {
    "executionInfo": {
     "elapsed": 5661,
     "status": "ok",
     "timestamp": 1677704413474,
     "user": {
      "displayName": "Pierre Gravel",
      "userId": "08025702416652476882"
     },
     "user_tz": 300
    },
    "id": "c7q2x3TzyUQ_"
   },
   "outputs": [],
   "source": [
    "%%capture\n",
    "import sklearn\n",
    "from sklearn.model_selection import train_test_split, GridSearchCV\n",
    "from sklearn.model_selection import cross_val_score\n",
    "from sklearn.ensemble import RandomForestClassifier\n",
    "from sklearn.ensemble import GradientBoostingClassifier\n",
    "from xgboost import XGBClassifier\n",
    "from sklearn.svm import SVC\n",
    "from sklearn.preprocessing import StandardScaler\n",
    "from imblearn.over_sampling import SMOTE\n",
    "from sklearn.metrics import classification_report, accuracy_score\n",
    "from sklearn.pipeline import Pipeline\n",
    "\n",
    "import numpy as np\n",
    "import pandas as pd\n",
    "import matplotlib.pyplot as plt\n",
    "import seaborn as sns\n",
    "sns.set(color_codes=True)\n",
    "\n",
    "%matplotlib inline\n",
    "\n",
    "import warnings\n",
    "warnings.filterwarnings(\"ignore\")\n",
    "\n",
    "# Pour la reproductibilité des résultats\n",
    "np.random.seed(43)\n",
    "\n",
    "# Author: Pierre Gravel <pierre.gravel@iid.ulaval.ca>\n",
    "# License: BSD"
   ]
  },
  {
   "cell_type": "markdown",
   "metadata": {
    "id": "wwQKePySyURB"
   },
   "source": [
    "## Partie I: Lecture et séparation des données\n",
    "\n",
    "\n",
    "#### Lecture des données\n",
    "\n",
    "Les données originales de la base de données ont été prétraitées dans le tutoriel **Exemple de préparation des données**, dont les résultats ont été sauvegardés dans un DataFrame de la librairie Pandas."
   ]
  },
  {
   "cell_type": "code",
   "execution_count": 2,
   "metadata": {
    "executionInfo": {
     "elapsed": 3,
     "status": "ok",
     "timestamp": 1677704413474,
     "user": {
      "displayName": "Pierre Gravel",
      "userId": "08025702416652476882"
     },
     "user_tz": 300
    },
    "id": "lHGgg98SyURB"
   },
   "outputs": [],
   "source": [
    "df = pd.read_csv('diabetes_nettoyee.csv')"
   ]
  },
  {
   "cell_type": "markdown",
   "metadata": {
    "id": "hA4H1TTIyURB"
   },
   "source": [
    "Séparation des noms de variables en entrées X et en sorties Y."
   ]
  },
  {
   "cell_type": "code",
   "execution_count": 3,
   "metadata": {
    "executionInfo": {
     "elapsed": 3,
     "status": "ok",
     "timestamp": 1677704413474,
     "user": {
      "displayName": "Pierre Gravel",
      "userId": "08025702416652476882"
     },
     "user_tz": 300
    },
    "id": "5ZlV0rTPyURC"
   },
   "outputs": [],
   "source": [
    "Xcol = df.drop(['Outcome'], axis=1).columns.to_list()\n",
    "Ycol = 'Outcome'\n",
    "\n",
    "X = df[Xcol]\n",
    "y = df[Ycol]"
   ]
  },
  {
   "cell_type": "markdown",
   "metadata": {
    "id": "XKjPWMKHyURC"
   },
   "source": [
    "## Partie II: Balancement des classes\n",
    "\n",
    "\n",
    "<p>&nbsp;</p>\n",
    "<div align=\"center\">\n",
    "    <img src= https://drive.google.com/uc?id=1o_KGLRxSPNl-zcg66B7QmMvWQoZgThOr  width=\"200\" />\n",
    "    <div>\n",
    "    <font size=\"1.5\">Image Source: https://pixabay.com/illustrations/libra-pan-weigh-kitchen-scale-2071314//</font>\n",
    "    </div>\n",
    "</div>\n",
    "<p>&nbsp;</p>\n",
    "\n",
    "\n",
    "Il arrive souvent dans une base de données que la classe qui nous intéresse le plus soit la plus rare; il \n",
    "y a alors un débalancement entre les classes \n",
    "\n",
    "Affichons le nombre de sujets de chaque classe."
   ]
  },
  {
   "cell_type": "code",
   "execution_count": 4,
   "metadata": {
    "colab": {
     "base_uri": "https://localhost:8080/",
     "height": 248
    },
    "executionInfo": {
     "elapsed": 583,
     "status": "ok",
     "timestamp": 1677704414055,
     "user": {
      "displayName": "Pierre Gravel",
      "userId": "08025702416652476882"
     },
     "user_tz": 300
    },
    "id": "Upd_6ONdyURD",
    "outputId": "d7284435-29ec-4872-c361-46275bc99746"
   },
   "outputs": [
    {
     "data": {
      "image/png": "[encoded data removed]",
      "text/plain": [
       "<Figure size 432x288 with 1 Axes>"
      ]
     },
     "metadata": {},
     "output_type": "display_data"
    }
   ],
   "source": [
    "labels = ['Sains', 'Diabétiques']\n",
    "sizes = [*y.value_counts()]\n",
    "\n",
    "plt.pie(sizes, labels=labels, autopct='%1.1f%%', shadow=True, startangle=90)\n",
    "ax = plt.axis('equal')"
   ]
  },
  {
   "cell_type": "markdown",
   "metadata": {
    "id": "sLnxyCgxyURE"
   },
   "source": [
    "La classe des sujets sains (*Outcome*=0) comprend environ 65 % des données. Il y a un léger débalancement des données. C'est peu, mais nous allons néanmoins le corriger pour montrer comment le faire.\n",
    "\n",
    "#### Augmentation de données de la classe défavorisée (sujets diabétiques) \n",
    "\n",
    "On utilise la méthode [SMOTE](https://imbalanced-learn.org/dev/references/generated/imblearn.over_sampling.SMOTE.html) pour\n",
    "équilibrer les deux classes."
   ]
  },
  {
   "cell_type": "code",
   "execution_count": 5,
   "metadata": {
    "executionInfo": {
     "elapsed": 224,
     "status": "ok",
     "timestamp": 1677704414270,
     "user": {
      "displayName": "Pierre Gravel",
      "userId": "08025702416652476882"
     },
     "user_tz": 300
    },
    "id": "YXHT9o7fyURE"
   },
   "outputs": [],
   "source": [
    "smote = SMOTE(sampling_strategy='minority')\n",
    "X, y = smote.fit_resample(X, y)"
   ]
  },
  {
   "cell_type": "markdown",
   "metadata": {
    "id": "YOhvFZ5wyURE"
   },
   "source": [
    "Affichons le nouveau nombre de sujets de chaque classe."
   ]
  },
  {
   "cell_type": "code",
   "execution_count": 6,
   "metadata": {
    "colab": {
     "base_uri": "https://localhost:8080/",
     "height": 248
    },
    "executionInfo": {
     "elapsed": 614,
     "status": "ok",
     "timestamp": 1677704414882,
     "user": {
      "displayName": "Pierre Gravel",
      "userId": "08025702416652476882"
     },
     "user_tz": 300
    },
    "id": "RrkzwsQuyURE",
    "outputId": "71ccf7b2-5938-4b84-a01f-685be0896353"
   },
   "outputs": [
    {
     "data": {
      "image/png": "[encoded data removed]",
      "text/plain": [
       "<Figure size 432x288 with 1 Axes>"
      ]
     },
     "metadata": {},
     "output_type": "display_data"
    }
   ],
   "source": [
    "labels = ['Sains', 'Diabétiques']\n",
    "sizes = [*y.value_counts()]\n",
    "\n",
    "plt.pie(sizes, labels=labels, autopct='%1.1f%%', shadow=True, startangle=90)\n",
    "ax = plt.axis('equal')"
   ]
  },
  {
   "cell_type": "markdown",
   "metadata": {
    "id": "7r8oWdLwyURF"
   },
   "source": [
    "Il y a autant de sujets dans chaque classe; elles sont maintenant balancées.\n",
    "\n",
    "## Partie III: Séparation des données en ensembles d'entraînement et de test\n",
    "\n",
    "On utilise la répartition standard de 80% des données pour l'entraînement et 20% des données pour le test."
   ]
  },
  {
   "cell_type": "code",
   "execution_count": 7,
   "metadata": {
    "executionInfo": {
     "elapsed": 15,
     "status": "ok",
     "timestamp": 1677704414882,
     "user": {
      "displayName": "Pierre Gravel",
      "userId": "08025702416652476882"
     },
     "user_tz": 300
    },
    "id": "F-hAggCUyURF"
   },
   "outputs": [],
   "source": [
    "X_train, X_test, y_train, y_test = train_test_split(X, y, test_size=0.2, random_state=3)"
   ]
  },
  {
   "cell_type": "markdown",
   "metadata": {
    "id": "rVlaF9fmyURF"
   },
   "source": [
    "## Partie IV: Normalisation des données.\n",
    "\n",
    "\n",
    "\n",
    "\n",
    "\n",
    "\n",
    "<p>&nbsp;</p>\n",
    "<div align=\"center\">\n",
    "    <img src= https://drive.google.com/uc?id=1XDjy_EHwBlDcowJwDQSEE0VduUS7fFNv  width=\"300\" />\n",
    "    <div>\n",
    "    <font size=\"1.5\">Image Source: https://www.chegg.com/learn/nutrition/nutrition/body-shape-of-infants</font>\n",
    "    </div>\n",
    "</div>\n",
    "<p>&nbsp;</p>\n",
    "\n",
    "\n",
    "La dernière étape consiste à normaliser les données; on utilise la méthode [StandardScaler](https://scikit-learn.org/stable/modules/generated/sklearn.preprocessing.StandardScaler.html). La normalisation des données X les met toutes sur un pied d'égalité (sans échelles, unités, etc). L'étape de normalisation peut avoir un grand effet sur les performances des classificateurs. Certains classificateurs y sont sensibles, d'autres non. C'est une bonne habitude de l'utiliser par défaut.\n",
    "\n",
    "On entraîne la méthode de transformation avec les données d'entraînement et on l'applique ensuite aux données d'entraînement et de test."
   ]
  },
  {
   "cell_type": "code",
   "execution_count": 8,
   "metadata": {
    "executionInfo": {
     "elapsed": 12,
     "status": "ok",
     "timestamp": 1677704414882,
     "user": {
      "displayName": "Pierre Gravel",
      "userId": "08025702416652476882"
     },
     "user_tz": 300
    },
    "id": "nVSo_EoPyURG"
   },
   "outputs": [],
   "source": [
    "scaler = StandardScaler()\n",
    "X_train_s = scaler.fit_transform(X_train)\n",
    "X_test_s = scaler.transform(X_test)"
   ]
  },
  {
   "cell_type": "markdown",
   "metadata": {
    "id": "1uk6bpPiyURG"
   },
   "source": [
    "## Partie V: Entraînement d'un classificateur à la fois\n",
    "\n",
    "\n",
    "<p>&nbsp;</p>\n",
    "<div align=\"center\">\n",
    "    <img src= https://drive.google.com/uc?id=1O-EGgAOH_7Iy16L3AFNlcdRBMSx3Qvgn  width=\"350\" />\n",
    "    <div>\n",
    "    <font size=\"1.5\">Image Source: https://activeforlife.com/how-to-encourage-kids-to-run//</font>\n",
    "    </div>\n",
    "</div>\n",
    "<p>&nbsp;</p>\n",
    "\n",
    "\n",
    "Les valeurs par défaut des hyperparamètres (HP) d'un classificateur sont rarement optimales. Nous allons voir comment déterminer leurs valeurs optimales à l'intérieur de plages de valeurs possibles. On utilise une méthode d'optimisation sur grille d'hyperparamètres.\n",
    "\n",
    "Spécification d'un classificateur de type SVM (*Support Vector Machine*)."
   ]
  },
  {
   "cell_type": "code",
   "execution_count": 9,
   "metadata": {
    "executionInfo": {
     "elapsed": 12,
     "status": "ok",
     "timestamp": 1677704414884,
     "user": {
      "displayName": "Pierre Gravel",
      "userId": "08025702416652476882"
     },
     "user_tz": 300
    },
    "id": "WKnFlBZvyURG"
   },
   "outputs": [],
   "source": [
    "cl = SVC()"
   ]
  },
  {
   "cell_type": "markdown",
   "metadata": {
    "id": "pbRJ1uDyyURG"
   },
   "source": [
    "### Spécification de la grille d'hyperparamètres\n",
    "\n",
    "Dans cet exemple, deux HP sont variés, soit le paramètre C et le type de SVM."
   ]
  },
  {
   "cell_type": "code",
   "execution_count": 10,
   "metadata": {
    "executionInfo": {
     "elapsed": 11,
     "status": "ok",
     "timestamp": 1677704414884,
     "user": {
      "displayName": "Pierre Gravel",
      "userId": "08025702416652476882"
     },
     "user_tz": 300
    },
    "id": "ab7DrgTYyURH"
   },
   "outputs": [],
   "source": [
    "params = {\n",
    "     'C': np.logspace(-1, 1, num=10),\n",
    "     'kernel' : ('linear', 'rbf')\n",
    " }"
   ]
  },
  {
   "cell_type": "markdown",
   "metadata": {
    "id": "va1zRKLAyURH"
   },
   "source": [
    "Entraînement d'un classificateur pour chaque valeur d'HP."
   ]
  },
  {
   "cell_type": "code",
   "execution_count": 11,
   "metadata": {
    "executionInfo": {
     "elapsed": 5351,
     "status": "ok",
     "timestamp": 1677704420225,
     "user": {
      "displayName": "Pierre Gravel",
      "userId": "08025702416652476882"
     },
     "user_tz": 300
    },
    "id": "g9AGv1WnyURH"
   },
   "outputs": [],
   "source": [
    "gs = GridSearchCV(cl, param_grid= params, cv=5, n_jobs=-1, scoring='accuracy')\n",
    "gs.fit(X_train_s,y_train);"
   ]
  },
  {
   "cell_type": "markdown",
   "metadata": {
    "id": "Rl1WyxnVyURH"
   },
   "source": [
    "Affichage du meilleur HP."
   ]
  },
  {
   "cell_type": "code",
   "execution_count": 12,
   "metadata": {
    "colab": {
     "base_uri": "https://localhost:8080/"
    },
    "executionInfo": {
     "elapsed": 213,
     "status": "ok",
     "timestamp": 1677704420436,
     "user": {
      "displayName": "Pierre Gravel",
      "userId": "08025702416652476882"
     },
     "user_tz": 300
    },
    "id": "8mvBgUMTyURI",
    "outputId": "989fe6bd-9529-4080-fd6d-5ce885cf73d3"
   },
   "outputs": [
    {
     "data": {
      "text/plain": [
       "{'C': 3.593813663804626, 'kernel': 'rbf'}"
      ]
     },
     "execution_count": 12,
     "metadata": {},
     "output_type": "execute_result"
    }
   ],
   "source": [
    "gs.best_params_"
   ]
  },
  {
   "cell_type": "markdown",
   "metadata": {
    "id": "5dZThw_ZyURI"
   },
   "source": [
    "Performances du meilleur classificateur sur les données d'entraînement et de test"
   ]
  },
  {
   "cell_type": "code",
   "execution_count": 13,
   "metadata": {
    "colab": {
     "base_uri": "https://localhost:8080/"
    },
    "executionInfo": {
     "elapsed": 5,
     "status": "ok",
     "timestamp": 1677704420436,
     "user": {
      "displayName": "Pierre Gravel",
      "userId": "08025702416652476882"
     },
     "user_tz": 300
    },
    "id": "SwzfUoFqyURI",
    "outputId": "d20e6562-c048-4d40-a877-45b910566c88"
   },
   "outputs": [
    {
     "name": "stdout",
     "output_type": "stream",
     "text": [
      "Exactitude sur les données d'entraînement: 92.8 %\n",
      "Exactitude sur les données de test: 86.5 %\n",
      "\n",
      "\n"
     ]
    }
   ],
   "source": [
    "clf = gs.best_estimator_\n",
    "\n",
    "y_pred_train = clf.predict(X_train_s)\n",
    "y_pred_test = clf.predict(X_test_s)\n",
    "\n",
    "print(\n",
    "    \"Exactitude sur les données d'entraînement: %0.1f %%\"\n",
    "    % (100 * accuracy_score(y_train, y_pred_train))\n",
    ")\n",
    "\n",
    "print(\n",
    "    \"Exactitude sur les données de test: %0.1f %%\\n\\n\"\n",
    "    % (100 * accuracy_score(y_test, y_pred_test))\n",
    ")"
   ]
  },
  {
   "cell_type": "markdown",
   "metadata": {
    "id": "hb9-9VdcyURI"
   },
   "source": [
    "Affichage du rapport de classification selon les classes."
   ]
  },
  {
   "cell_type": "code",
   "execution_count": 14,
   "metadata": {
    "colab": {
     "base_uri": "https://localhost:8080/"
    },
    "executionInfo": {
     "elapsed": 3,
     "status": "ok",
     "timestamp": 1677704420436,
     "user": {
      "displayName": "Pierre Gravel",
      "userId": "08025702416652476882"
     },
     "user_tz": 300
    },
    "id": "e70-GKdByURI",
    "outputId": "2da6f1e8-ee76-4f2d-d04f-8384868acca1"
   },
   "outputs": [
    {
     "name": "stdout",
     "output_type": "stream",
     "text": [
      "              precision    recall  f1-score   support\n",
      "\n",
      "           0       0.88      0.82      0.85        93\n",
      "           1       0.85      0.91      0.88       107\n",
      "\n",
      "    accuracy                           0.86       200\n",
      "   macro avg       0.87      0.86      0.86       200\n",
      "weighted avg       0.87      0.86      0.86       200\n",
      "\n"
     ]
    }
   ],
   "source": [
    "print(classification_report(y_test, y_pred_test))"
   ]
  },
  {
   "cell_type": "markdown",
   "metadata": {
    "id": "L8nq5kEtyURJ"
   },
   "source": [
    "La première colonne contient les chiffres 0 et 1; elle identifie les résultats pour les sujets avec (1) et sans (0) diabète.\n",
    "\n",
    "Observations:\n",
    "<ul>\n",
    "<li>Parmi toutes nos prédictions de sujets atteints de diabète, 85 % l'étaient vraiment (précision).</li>\n",
    "<li>On a détecté 91 % des sujets diabétiques (rappel ou *recall*).</li>\n",
    "<li>86 % des prédictions (sujets avec ou sans diabète) étaient correctes (exactitude ou *accuracy*).</li>\n",
    "</ul>"
   ]
  },
  {
   "cell_type": "markdown",
   "metadata": {
    "id": "iSLlLG7uyURJ"
   },
   "source": [
    "## Partie VI: Entraînement de plusieurs classificateurs à la fois\n",
    "\n",
    "\n",
    "<p>&nbsp;</p>\n",
    "<div align=\"center\">\n",
    "    <img src= https://drive.google.com/uc?id=1y0jInA1eAK_rIV3klRUkFAmsSbxonq6f  width=\"400\" />\n",
    "    <div>\n",
    "    <font size=\"1.5\">Image Source: https://www.nytimes.com/2016/08/15/sports/olympics/usain-bolt-100-meters-justin-gatlin-results.html//</font>\n",
    "    </div>\n",
    "</div>\n",
    "<p>&nbsp;</p>\n",
    "\n",
    "\n",
    "Il est plus pratique d'entraîner plusieurs classificateurs en même temps afin de sélectionner le meilleur modèle parmi eux. \n",
    "\n",
    "Spécification de plusieurs classificateurs avec quelques valeurs d'HP par défaut. "
   ]
  },
  {
   "cell_type": "code",
   "execution_count": 15,
   "metadata": {
    "executionInfo": {
     "elapsed": 242,
     "status": "ok",
     "timestamp": 1677704420676,
     "user": {
      "displayName": "Pierre Gravel",
      "userId": "08025702416652476882"
     },
     "user_tz": 300
    },
    "id": "4Gkkq1eWyURJ"
   },
   "outputs": [],
   "source": [
    "clf1 = SVC()\n",
    "clf2 = RandomForestClassifier(max_depth=None, min_samples_split=10)\n",
    "clf3 = GradientBoostingClassifier()\n",
    "clf4 = XGBClassifier()"
   ]
  },
  {
   "cell_type": "markdown",
   "metadata": {
    "id": "XtDzQg1ryURJ"
   },
   "source": [
    "### Spécification des grilles d'hyperparamètres\n",
    "\n",
    "Il y en a une pour chaque classificateur."
   ]
  },
  {
   "cell_type": "code",
   "execution_count": 16,
   "metadata": {
    "executionInfo": {
     "elapsed": 2,
     "status": "ok",
     "timestamp": 1677704420676,
     "user": {
      "displayName": "Pierre Gravel",
      "userId": "08025702416652476882"
     },
     "user_tz": 300
    },
    "id": "MBBdxWLhyURJ"
   },
   "outputs": [],
   "source": [
    "param1 = {}\n",
    "param1['classifier__C'] = np.logspace(-1, 1, num=10)\n",
    "param1['classifier__kernel'] = ('linear', 'rbf')\n",
    "param1['classifier'] = [clf1]\n",
    "\n",
    "param2 = {}\n",
    "param2['classifier__n_estimators'] = np.arange(100, 1100, 100)\n",
    "param2['classifier__max_depth'] = [2, 3, 4, 5]\n",
    "param2['classifier'] = [clf2]\n",
    "\n",
    "param3 = {}\n",
    "param3['classifier__n_estimators'] = np.arange(50, 100, 10)\n",
    "param3['classifier__learning_rate'] = [0.05, 0.1, 0.5, 1.0]\n",
    "param3['classifier__max_depth'] = [3, 4, 5]\n",
    "param3['classifier'] = [clf3]\n",
    "\n",
    "param4 = {}\n",
    "param4['classifier__n_estimators'] = np.arange(50, 100, 10)\n",
    "param4['classifier__learning_rate'] = [0.05, 0.1, 0.5, 1.0]\n",
    "param4['classifier__max_depth'] = [3, 4, 5]\n",
    "param4['classifier'] = [clf4]\n",
    "\n",
    "pipeline = Pipeline([('classifier', clf1)])\n",
    "params = [param1, param2, param3, param4]"
   ]
  },
  {
   "cell_type": "markdown",
   "metadata": {
    "id": "rF6OGY9dyURJ"
   },
   "source": [
    "#### Entraînement de chaque classificateur pour sa grille d'HP\n",
    "\n",
    "C'est la partie la plus longue à effectuer dans le script. C'est d'autant plus long qu'il y a de classificateurs à comparer entre eux et de combinaisons d'hyperparamètres à tester."
   ]
  },
  {
   "cell_type": "code",
   "execution_count": 17,
   "metadata": {
    "colab": {
     "base_uri": "https://localhost:8080/"
    },
    "executionInfo": {
     "elapsed": 167646,
     "status": "ok",
     "timestamp": 1677704588320,
     "user": {
      "displayName": "Pierre Gravel",
      "userId": "08025702416652476882"
     },
     "user_tz": 300
    },
    "id": "8EsT2798yURK",
    "outputId": "30c7457d-1fc3-412a-f7e4-86c3c51978fc"
   },
   "outputs": [
    {
     "name": "stdout",
     "output_type": "stream",
     "text": [
      "Wall time: 49.9 s\n"
     ]
    }
   ],
   "source": [
    "%%time\n",
    "\n",
    "gs = GridSearchCV(pipeline, params, cv=5, n_jobs=-1, scoring='accuracy').fit(X_train_s, y_train)"
   ]
  },
  {
   "cell_type": "markdown",
   "metadata": {
    "id": "9ly1nemHyURK"
   },
   "source": [
    "#### Affichage des paramètres du modèle optimal ainsi que de son score (en validation croisée)"
   ]
  },
  {
   "cell_type": "code",
   "execution_count": 18,
   "metadata": {
    "colab": {
     "base_uri": "https://localhost:8080/"
    },
    "executionInfo": {
     "elapsed": 12,
     "status": "ok",
     "timestamp": 1677704588320,
     "user": {
      "displayName": "Pierre Gravel",
      "userId": "08025702416652476882"
     },
     "user_tz": 300
    },
    "id": "vWDemZJ7yURK",
    "outputId": "b2e07c4a-22a1-4fc3-f67e-9761b6fb18fe"
   },
   "outputs": [
    {
     "name": "stdout",
     "output_type": "stream",
     "text": [
      "Résultats de la recherche sur grille\n",
      "\n",
      " Le meilleur modèle pour l'ensemble des paramètres de recherche:\n",
      " Pipeline(steps=[('classifier',\n",
      "                 GradientBoostingClassifier(learning_rate=0.5, max_depth=4,\n",
      "                                            n_estimators=60))])\n",
      "\n",
      " Le meilleur score pour l'ensemble des paramètres de recherche: 90.1 %\n",
      "\n"
     ]
    }
   ],
   "source": [
    "print('Résultats de la recherche sur grille' )\n",
    "print(\"\\n Le meilleur modèle pour l'ensemble des paramètres de recherche:\\n\",gs.best_estimator_)\n",
    "print(\"\\n Le meilleur score pour l'ensemble des paramètres de recherche: %2.1f %%\\n\" % (100*gs.best_score_))"
   ]
  },
  {
   "cell_type": "markdown",
   "metadata": {
    "id": "9-s3Wk8VyURK"
   },
   "source": [
    "#### Affichage du rapport de classification selon les classes pour le classificateur optimal \n",
    "\n",
    "Une fois que le classificateur optimal est identifié, on l'entraîne à nouveau en utilisant l'ensemble des données, c.-à-d. sans validation croisée. Cela améliore le score. Toutefois, pour la section suivante, nous devons l'entraîner à nouveau."
   ]
  },
  {
   "cell_type": "code",
   "execution_count": 19,
   "metadata": {
    "colab": {
     "base_uri": "https://localhost:8080/"
    },
    "executionInfo": {
     "elapsed": 11,
     "status": "ok",
     "timestamp": 1677704588321,
     "user": {
      "displayName": "Pierre Gravel",
      "userId": "08025702416652476882"
     },
     "user_tz": 300
    },
    "id": "6eu7_-GryURK",
    "outputId": "31adef7d-464e-4d92-e4e2-3995fcc90ab7"
   },
   "outputs": [
    {
     "name": "stdout",
     "output_type": "stream",
     "text": [
      "[01:37:10] WARNING: C:/Users/Administrator/workspace/xgboost-win64_release_1.3.0/src/learner.cc:541: \n",
      "Parameters: { classifier, classifier__learning_rate, classifier__max_depth, classifier__n_estimators } might not be used.\n",
      "\n",
      "  This may not be accurate due to some parameters are only used in language bindings but\n",
      "  passed down to XGBoost core.  Or some parameters are not used but slip through this\n",
      "  verification. Please open an issue if you find above cases.\n",
      "\n",
      "\n",
      "[01:37:10] WARNING: C:/Users/Administrator/workspace/xgboost-win64_release_1.3.0/src/learner.cc:1061: Starting in XGBoost 1.3.0, the default evaluation metric used with the objective 'binary:logistic' was changed from 'error' to 'logloss'. Explicitly set eval_metric if you'd like to restore the old behavior.\n"
     ]
    }
   ],
   "source": [
    "clf = XGBClassifier(**gs.best_params_)\n",
    "\n",
    "clf.fit(X_train_s, y_train);"
   ]
  },
  {
   "cell_type": "code",
   "execution_count": 20,
   "metadata": {
    "colab": {
     "base_uri": "https://localhost:8080/"
    },
    "executionInfo": {
     "elapsed": 8,
     "status": "ok",
     "timestamp": 1677704588321,
     "user": {
      "displayName": "Pierre Gravel",
      "userId": "08025702416652476882"
     },
     "user_tz": 300
    },
    "id": "0RByTssSyURL",
    "outputId": "be689f84-78c5-4944-8136-ea1ab7fabaeb"
   },
   "outputs": [
    {
     "name": "stdout",
     "output_type": "stream",
     "text": [
      "              precision    recall  f1-score   support\n",
      "\n",
      "           0       0.92      0.91      0.92        93\n",
      "           1       0.93      0.93      0.93       107\n",
      "\n",
      "    accuracy                           0.93       200\n",
      "   macro avg       0.92      0.92      0.92       200\n",
      "weighted avg       0.92      0.93      0.92       200\n",
      "\n"
     ]
    }
   ],
   "source": [
    "y_pred_test = clf.predict(X_test_s)\n",
    "\n",
    "print(classification_report(y_test, y_pred_test))"
   ]
  },
  {
   "cell_type": "markdown",
   "metadata": {
    "id": "bhs9Y3ukyURL"
   },
   "source": [
    "Observations:\n",
    "<ul>\n",
    "<li>Parmi toutes nos prédictions de sujets atteints de diabète, 93 % l'étaient vraiment.</li>\n",
    "<li>On a détecté 93 % des sujets diabétiques.</li>\n",
    "<li>93 % des prédictions (sujets avec ou sans diabète) étaient correctes.</li>\n",
    "</ul>\n",
    "\n",
    "On a pu passer d'une précision de 85 % à 93 % en optimisant plusieurs modèles à la fois! Il est toujours préférable de comparer plusieurs modèles entre eux, la principale raison étant que la nature des données affecte grandement les performances de chaque type de classificateur.\n",
    "\n",
    "<p>&nbsp;</p>\n",
    "<div align=\"center\">\n",
    "    <img src= https://drive.google.com/uc?id=1-rUqaiSVfQVZLtRyDKMrPkU5oFyp_r1N  width=\"300\" />\n",
    "    <div>\n",
    "    <font size=\"1.5\">Image Source: https://www.mapconsulting.com/great-leadership-is-not-a-popularity-contest//</font>\n",
    "    </div>\n",
    "</div>\n",
    "<p>&nbsp;</p>\n",
    "\n",
    "\n",
    "## Partie VII: Identification des variables les plus importantes pour diagnostiquer le diabète\n",
    "\n",
    "<p>&nbsp;</p>\n",
    "<div align=\"center\">\n",
    "    <img src= https://drive.google.com/uc?id=1R10uCHu4QP_bdng61CyIv0VW3YCSnpY8  width=\"250\" />\n",
    "    <div>\n",
    "    <font size=\"1.5\">Image Source: https://clipground.com/values-education-clipart.html/</font>\n",
    "    </div>\n",
    "</div>\n",
    "<p>&nbsp;</p>\n",
    "\n",
    "\n",
    "Voici la partie généralement la plus importante pour quelqu'un intéressé à comprendre les facteurs \n",
    "responsables du diabète. Maintenant qu'on a un classificateur, que peut-il nous apprendre sur les variables importantes?\n",
    "\n",
    "L'importance de chaque variable correspond au nombre de fois qu'elle est utilisée dans des arbres décisionnels pour prendre une décision. Elle prend une valeur entre 0 et 1, où 0 indique qu'elle n'est jamais utilisée, et où 1 indique qu'elle est la seule utilisée parmi toutes. La somme des importances sur l'ensemble des variables vaut 1.\n",
    "\n",
    "#### Calcul de l'importance de chaque variable dans le modèle"
   ]
  },
  {
   "cell_type": "code",
   "execution_count": 21,
   "metadata": {
    "executionInfo": {
     "elapsed": 6,
     "status": "ok",
     "timestamp": 1677704588321,
     "user": {
      "displayName": "Pierre Gravel",
      "userId": "08025702416652476882"
     },
     "user_tz": 300
    },
    "id": "0U3oSnW6yURL"
   },
   "outputs": [],
   "source": [
    "importances = list(clf.feature_importances_)\n",
    "\n",
    "# Le nom de chaque variable est associé à son importance.\n",
    "feature_importances = [(feature, round(importance, 2)) for feature, importance\n",
    "                       in zip(Xcol, importances)]\n",
    "\n",
    "# Ordonnancement des valeurs d'importance en ordre décroissant.\n",
    "feature_importances = sorted(feature_importances, key=lambda x: x[1],\n",
    "                             reverse=True)"
   ]
  },
  {
   "cell_type": "markdown",
   "metadata": {
    "id": "-oOp-o76yURL"
   },
   "source": [
    "#### Affichage du diagramme d'importance des variables de la base de données.\n",
    "\n",
    "On veut déterminer lesquelles sont les plus importantes et combien il y en a.\n"
   ]
  },
  {
   "cell_type": "code",
   "execution_count": 22,
   "metadata": {
    "colab": {
     "base_uri": "https://localhost:8080/",
     "height": 449
    },
    "executionInfo": {
     "elapsed": 227,
     "status": "ok",
     "timestamp": 1677704588543,
     "user": {
      "displayName": "Pierre Gravel",
      "userId": "08025702416652476882"
     },
     "user_tz": 300
    },
    "id": "RyWDgUjdyURL",
    "outputId": "774f6078-6231-4401-8ffd-a73baf348350",
    "scrolled": false
   },
   "outputs": [
    {
     "data": {
      "image/png": "[encoded data removed]",
      "text/plain": [
       "<Figure size 432x288 with 1 Axes>"
      ]
     },
     "metadata": {},
     "output_type": "display_data"
    }
   ],
   "source": [
    "indices = np.argsort(importances)[::-1]\n",
    "\n",
    "plt.style.use('fivethirtyeight')\n",
    "\n",
    "var = list(range(len(importances)))\n",
    "plt.bar(var, np.array(importances)[indices.astype(int)],\n",
    "        orientation='vertical')\n",
    "plt.xticks(var, np.array(Xcol)[indices.astype(int)],\n",
    "           rotation='vertical')\n",
    "plt.ylabel('Importance', fontsize=16)\n",
    "plt.xlabel('Variable', fontsize=16)\n",
    "plt.title('Importance des variables', fontsize=16);"
   ]
  },
  {
   "cell_type": "markdown",
   "metadata": {
    "id": "6SeqjR-zyURM"
   },
   "source": [
    "La variable la plus importante est le taux d'insuline, ce qui n'est pas très surprenant. \n",
    "\n",
    "Les deux variables suivantes ont un effet similaire, mais nettement moindre que le taux d'insuline:\n",
    "<ul>\n",
    "<li>l'âge,</li>\n",
    "<li>l'épaisseur de la peau.</li>\n",
    "</ul>\n",
    "\n",
    "L'importance des variables restantes diminue lentement par la suite. \n",
    "\n",
    "Notez bien que ces résultats ne sont valides que **pour cette base de données**. De plus, l'ordre précis des variables \n",
    "peut légèrement changer en fonction du type de prétraitement ou du classificateur utilisés."
   ]
  }
 ],
 "metadata": {
  "colab": {
   "provenance": []
  },
  "kernelspec": {
   "display_name": "Python 3",
   "language": "python",
   "name": "python3"
  },
  "language_info": {
   "codemirror_mode": {
    "name": "ipython",
    "version": 3
   },
   "file_extension": ".py",
   "mimetype": "text/x-python",
   "name": "python",
   "nbconvert_exporter": "python",
   "pygments_lexer": "ipython3",
   "version": "3.8.5"
  }
 },
 "nbformat": 4,
 "nbformat_minor": 1
}
